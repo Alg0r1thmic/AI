{
 "cells": [
  {
   "cell_type": "code",
   "execution_count": 11,
   "metadata": {},
   "outputs": [
    {
     "data": {
      "image/png": "[encoded data removed]",
      "text/plain": [
       "<Figure size 432x288 with 1 Axes>"
      ]
     },
     "metadata": {
      "needs_background": "light"
     },
     "output_type": "display_data"
    }
   ],
   "source": [
    "import pandas as pd\n",
    "import numpy as np\n",
    "import plotly.plotly as py\n",
    "import plotly.tools as tls\n",
    "import matplotlib.pyplot as plt\n",
    "import seaborn as sns\n",
    "from sklearn.utils import shuffle\n",
    "import seaborn as sns\n",
    "from numpy.linalg import norm\n",
    "import time\n",
    "from IPython.display import clear_output\n",
    "\n",
    "#DATA\n",
    "iris = datasets.load_iris()\n",
    "X = iris[\"data\"][:,:] #todos los atributos\n",
    "y = (iris[\"target\"]).astype(np.float64) #setosa, versicolor, virginica\n",
    "\n",
    "def distancia(a,b):\n",
    "    return np.sqrt(np.sum((a - b)**2))\n",
    "\n",
    "def dbscan(X, epsilon):\n",
    "    filas = X.shape[0]\n",
    "    sus_clusters = np.full(filas,-1,dtype=int)\n",
    "    cluster = -1\n",
    "    #arreglo de 150x1, con -1s, -1 indica que no tiene cluster\n",
    "\n",
    "    puntos_restantes = np.arange(filas)    \n",
    "\n",
    "    #FOR\n",
    "    while(puntos_restantes.shape[0]>0):\n",
    "        cluster += 1\n",
    "        \n",
    "        # tomar punto aleatorio de los restantes (que tienen -1)\n",
    "        punto_aleatorio_indexR = np.random.randint(0,puntos_restantes.shape[0])\n",
    "        punto_aleatorio_indexX = puntos_restantes[punto_aleatorio_indexR]\n",
    "        sus_clusters[punto_aleatorio_indexX] = cluster\n",
    "        centroide = X[punto_aleatorio_indexX]\n",
    "        i = np.argwhere(puntos_restantes == punto_aleatorio_indexX)\n",
    "        puntos_restantes = np.delete(puntos_restantes,i)\n",
    "\n",
    "        #hallar el punto más cercano y ver que esté en el círculo        \n",
    "        #FOR\n",
    "        intentar_anadir_a_cluster = True\n",
    "        while(intentar_anadir_a_cluster and puntos_restantes.shape[0]>0):\n",
    "            menor_distancia = 1000000\n",
    "            punto_mas_cercano = X[puntos_restantes[0]]#solo para ámbito\n",
    "            punto_mas_cercano_indexX = puntos_restantes[0]#solo para ámbito\n",
    "            for p in puntos_restantes:\n",
    "                if(distancia(centroide, X[p]) < menor_distancia):\n",
    "                    punto_mas_cercano = X[p]\n",
    "                    punto_mas_cercano_indexX = p\n",
    "                    menor_distancia = distancia(centroide, X[p])\n",
    "            if (distancia(punto_mas_cercano,centroide) <= epsilon):\n",
    "                sus_clusters[punto_mas_cercano_indexX] = cluster\n",
    "                centroide = punto_mas_cercano\n",
    "                i = np.argwhere(puntos_restantes == punto_mas_cercano_indexX)\n",
    "                puntos_restantes = np.delete(puntos_restantes,i)\n",
    "            else:\n",
    "                intentar_anadir_a_cluster = False\n",
    "    return sus_clusters\n",
    "    #print(\"cluster final, índice: \",cluster) #cluster0 , cluster1, cluster2\n",
    "sus=dbscan(X,1.777)\n",
    "colors = {'Iris-setosa':'r', 'Iris-versicolor':'g', 'Iris-virginica':'b'}\n",
    "fig, ax = plt.subplots()\n",
    "plt.scatter()"
   ]
  }
 ],
 "metadata": {
  "kernelspec": {
   "display_name": "Python 3",
   "language": "python",
   "name": "python3"
  },
  "language_info": {
   "codemirror_mode": {
    "name": "ipython",
    "version": 3
   },
   "file_extension": ".py",
   "mimetype": "text/x-python",
   "name": "python",
   "nbconvert_exporter": "python",
   "pygments_lexer": "ipython3",
   "version": "3.7.3"
  }
 },
 "nbformat": 4,
 "nbformat_minor": 2
}
