{
 "cells": [
  {
   "cell_type": "code",
   "execution_count": null,
   "metadata": {},
   "outputs": [],
   "source": [
    "import numpy as np\n",
    "class KMeans(object):\n",
    "    def __init__(self,numGroup,numIterations,isTrain=True):\n",
    "        self.numGroup=numGroup\n",
    "        self.numIterations=numIterations\n",
    "        self.isTrain=isTrain\n",
    "    getEuclideanDistance=(lambda x:np.mean(x)) #retorn la distacia euclidea\n",
    "    def fit():\n",
    "    "
   ]
  }
 ],
 "metadata": {
  "kernelspec": {
   "display_name": "Python 3",
   "language": "python",
   "name": "python3"
  },
  "language_info": {
   "codemirror_mode": {
    "name": "ipython",
    "version": 3
   },
   "file_extension": ".py",
   "mimetype": "text/x-python",
   "name": "python",
   "nbconvert_exporter": "python",
   "pygments_lexer": "ipython3",
   "version": "3.7.3"
  }
 },
 "nbformat": 4,
 "nbformat_minor": 2
}
