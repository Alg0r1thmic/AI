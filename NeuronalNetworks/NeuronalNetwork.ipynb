{
 "cells": [
  {
   "cell_type": "markdown",
   "metadata": {},
   "source": [
    "### Foward Propagation Example\n",
    "Problem\n",
    "Suppose we want to predict our test score based on how many hours we sleep and how many hours we study the night before.\n",
    "\n",
    "In other words, we want to predict output value \n",
    "y\n",
    " which are scores for a given set of input values \n",
    "X\n",
    "which are hours of (sleep, study).\n",
    "\n",
    "|X(sleep,study)  |y (test score)| \n",
    "|:----------:|:-------------:|\n",
    "| (3,5) |  75 | \n",
    "| (5,1) |   82   | \n",
    "| (10,2) | 93 |\n",
    "| (8,3| ? |"
   ]
  },
  {
   "cell_type": "code",
   "execution_count": 4,
   "metadata": {},
   "outputs": [
    {
     "name": "stdout",
     "output_type": "stream",
     "text": [
      "Populating the interactive namespace from numpy and matplotlib\n"
     ]
    },
    {
     "name": "stderr",
     "output_type": "stream",
     "text": [
      "/home/raul/anaconda3/lib/python3.7/site-packages/IPython/core/magics/pylab.py:160: UserWarning: pylab import has clobbered these variables: ['shuffle']\n",
      "`%matplotlib` prevents importing * from pylab and numpy\n",
      "  \"\\n`%matplotlib` prevents importing * from pylab and numpy\"\n"
     ]
    }
   ],
   "source": [
    "%pylab inline"
   ]
  },
  {
   "cell_type": "code",
   "execution_count": 5,
   "metadata": {},
   "outputs": [],
   "source": [
    "import numpy as np\n",
    "X=np.array(([3,5],[5,1],[10,2]),dtype=float)\n",
    "Y=np.array(([75],[82],[93]),dtype=float)\n",
    "X=X/np.amax(X,axis=0)\n",
    "Y=Y/100\n",
    "class NeuronalNetwork1(object):\n",
    "    def __init__(self):\n",
    "        #define Parameters\n",
    "        self.inputLayerSize=2\n",
    "        self.hiddenLayerSize=3;\n",
    "        self.outputLayerSize=1;\n",
    "        #weights (parameters)\n",
    "        self.W1=np.random.rand(self.inputLayerSize,self.hiddenLayerSize)\n",
    "        self.W2=np.random.rand(self.hiddenLayerSize,self.outputLayerSize)\n",
    "    def fowardPropagation(self,X):\n",
    "        Z=X@self.W1\n",
    "        a=self.sigmoid(Z)\n",
    "        Z2=a@self.W2\n",
    "        a2=self.sigmoid(Z2)\n",
    "        return a2\n",
    "    def sigmoid(self,z):\n",
    "        return 1/(1+np.exp(-z))\n",
    "    "
   ]
  },
  {
   "cell_type": "code",
   "execution_count": 6,
   "metadata": {},
   "outputs": [
    {
     "name": "stdout",
     "output_type": "stream",
     "text": [
      "Populating the interactive namespace from numpy and matplotlib\n"
     ]
    }
   ],
   "source": [
    "%pylab inline\n",
    "import matplotlib.pyplot as plt\n",
    "\n",
    "NN=NeuronalNetwork1()\n",
    "result=NN.fowardPropagation(X)\n",
    "#bar([0,1,2],Y, width=0.35,alpha=0.8)\n",
    "#bar([0.35,1.35,2.35],result,width=0.35,color='r',alpha=0.8)\n",
    "#grid(1)\n",
    "#legend(['Y','output'])"
   ]
  },
  {
   "cell_type": "markdown",
   "metadata": {},
   "source": [
    "# Neuronal Network Implementation"
   ]
  },
  {
   "cell_type": "code",
   "execution_count": 7,
   "metadata": {},
   "outputs": [
    {
     "data": {
      "image/png": "[encoded data removed]",
      "text/plain": [
       "<Figure size 432x288 with 1 Axes>"
      ]
     },
     "metadata": {
      "needs_background": "light"
     },
     "output_type": "display_data"
    }
   ],
   "source": [
    "import numpy as np\n",
    "import scipy as sc\n",
    "import matplotlib.pyplot as plt\n",
    "from sklearn.datasets import make_circles\n",
    "\n",
    "#CREATE DATASET\n",
    "#tamaño de dataset mas numero de caracteristicas\n",
    "def createDataSet(datasetSize,featureNumber):\n",
    "    X,Y=make_circles(n_samples=datasetSize,factor=featureNumber,noise=0.05)\n",
    "    plt.scatter(X[Y==0,0],X[Y==0,1],c=\"skyblue\")\n",
    "    plt.scatter(X[Y==1,0],X[Y==1,1],c=\"salmon\")\n",
    "    #plt.axis(\"equal\")\n",
    "createDataSet(500,0.5)"
   ]
  },
  {
   "cell_type": "code",
   "execution_count": 7,
   "metadata": {},
   "outputs": [],
   "source": [
    "import pandas as pd\n",
    "import numpy as np\n",
    "import matplotlib.pyplot as plt\n",
    "import seaborn as sns\n",
    "from sklearn.utils import shuffle\n",
    "import seaborn as sns\n",
    "from sklearn.datasets import make_circles\n",
    "import time\n",
    "from IPython.display import clear_output\n",
    "%matplotlib inline \n",
    "class neuronalLayer(object):\n",
    "    def __init__(self,numberConnection,numberNeurons,activationFunction):\n",
    "        self.numberConnection=numberConnection\n",
    "        self.numberNeurons=numberNeurons\n",
    "        self.activationFunction=activationFunction\n",
    "        self.bayas=np.random.rand(1,numberNeurons)*2-1#inicializacion con random\n",
    "        self.W=np.random.rand(numberConnection,numberNeurons)*2-1#inicializacion con random\n",
    "class NeuronalNetwork(object):\n",
    "    def __init__(self,learningRatio=0.1,numIterations=100,topology=[4,4,1],train=True):\n",
    "        self.learningRatio=learningRatio\n",
    "        self.numIterations=numIterations\n",
    "        self.topology=topology\n",
    "        self.neuronalNetrowk=[]\n",
    "        self.train=train\n",
    "    sigmoide=(lambda x:1/(1+np.e**(-x)),lambda x:x*(1-x)) #funcion de activacion mas su rerivada\n",
    "    costFunction=(lambda yp,yr:np.mean((yp-yr)**2),\n",
    "                 lambda yp,yr:(yp-yr))#funcion de costo mas su rerivada\n",
    "    def createNeuronalNetwork(self):\n",
    "        nn=[]\n",
    "        for i,layer in enumerate(self.topology[:-1]):\n",
    "            nn.append(neuronalLayer(self.topology[i],self.topology[i+1],self.sigmoide))\n",
    "        self.neuronalNetrowk=nn\n",
    "    def forwardPropagation(self,X,Y):\n",
    "        out=[(None,X)]\n",
    "        for i,layer in enumerate(self.neuronalNetrowk):\n",
    "            z=out[-1][1]@self.neuronalNetrowk[i].W +self.neuronalNetrowk[i].bayas\n",
    "            a=self.neuronalNetrowk[i].activationFunction[0](z)\n",
    "            out.append((z,a))\n",
    "        return out\n",
    "    def backwardPropagation(self,X,Y):\n",
    "        out=self.forwardPropagation(X,Y)\n",
    "        if self.train:\n",
    "            deltas=[]\n",
    "            for i in reversed(range(0, len(self.neuronalNetrowk))):\n",
    "                z=out[i+1][0]\n",
    "                a=out[i+1][1]\n",
    "                if i==len(self.neuronalNetrowk)-1:\n",
    "                    deltas.insert(0,self.costFunction[1](a,Y)*self.neuronalNetrowk[i].activationFunction[1](a))\n",
    "                else:\n",
    "                    deltas.insert(0, deltas[0] @ _W.T * self.neuronalNetrowk[i].activationFunction[1](a))\n",
    "                _W=self.neuronalNetrowk[i].W\n",
    "                ##gradient desent\n",
    "                self.neuronalNetrowk[i].bayas=self.neuronalNetrowk[i].bayas-np.mean(deltas[0],axis=0,keepdims=True)*self.learningRatio\n",
    "                self.neuronalNetrowk[i].W=self.neuronalNetrowk[i].W-out[i][1].T@deltas[0]*self.learningRatio\n",
    "        return out[-1][1]\n",
    "    def fit(self,X,Y,numIterations):\n",
    "        loss=[]\n",
    "        for i in range(numIterations):\n",
    "            out=self.backwardPropagation(X,Y)\n",
    "            loss.append(self.costFunction[0](out,Y))\n",
    "            clear_output(wait=True)\n",
    "            plt.plot(range(len(loss)), loss)\n",
    "            plt.show()\n",
    "  "
   ]
  },
  {
   "cell_type": "code",
   "execution_count": 8,
   "metadata": {},
   "outputs": [
    {
     "data": {
      "image/png": "[encoded data removed]",
      "text/plain": [
       "<Figure size 432x288 with 1 Axes>"
      ]
     },
     "metadata": {
      "needs_background": "light"
     },
     "output_type": "display_data"
    }
   ],
   "source": [
    "\n",
    "def readData():\n",
    "    df = pd.read_csv('Iris.csv')   \n",
    "    df = df.drop(['Id'],axis=1)\n",
    "    rows = list(range(100,150))\n",
    "    df = df.drop(df.index[rows]) \n",
    "     \n",
    "    Y = []\n",
    "    target = df['Species']\n",
    "    for val in target:\n",
    "        if(val == 'Iris-setosa'):\n",
    "            Y.append(0)\n",
    "        else:\n",
    "            Y.append(1)\n",
    "         \n",
    "    df = df.drop(['Species'],axis=1)\n",
    "    X = df.values.tolist()\n",
    "    X, Y = shuffle(X,Y)\n",
    "    X=np.array(X)\n",
    "    Y=np.array(Y)\n",
    "    Y=Y[:,np.newaxis]\n",
    "    return X,Y\n",
    "def createDataSet(datasetSize,featureNumber):\n",
    "    X,Y=make_circles(n_samples=datasetSize,factor=featureNumber,noise=0.05)\n",
    "    Y=Y[:,np.newaxis]\n",
    "    plt.scatter(X[Y[:, 0] == 0, 0], X[Y[:, 0] == 0, 1], c=\"skyblue\")\n",
    "    plt.scatter(X[Y[:, 0] == 1, 0], X[Y[:, 0] == 1, 1], c=\"salmon\")  \n",
    "    #plt.axis(\"equal\")\n",
    "    return X,Y\n",
    "def testNeuronalNetwork():\n",
    "    [X,Y]=createDataSet(500,0.5)\n",
    "    neuro=NeuronalNetwork()\n",
    "    neuro.createNeuronalNetwork()\n",
    "    neuro.fit(X,Y)\n",
    "if __name__=='__main__':\n",
    "    [X,Y]=readData()\n",
    "    heatmap_plot = sns.heatmap(X, center=0, cmap='gist_ncar')\n",
    "    plt.show() \n",
    "    neuro=NeuronalNetwork(learningRatio=0.1,topology=[4,12,1])\n",
    "    neuro.createNeuronalNetwork()    \n",
    "    neuro.fit(X,Y,200)"
   ]
  },
  {
   "cell_type": "markdown",
   "metadata": {},
   "source": [
    "# Neural Network\n",
    "###  forwardPropagation\n",
    "$$\\alpha$$\n",
    "### backward Propagation\n",
    "sea la siguiente composicion de funciones:\n",
    "$$C(a(z^{L}))$$\n",
    "donde $C$ es la funcion conste definida como:\n",
    "$$C(a_{j}^{L})=\\frac{1}{2}\\sum_{j}^{}(y_{i}-a_{j}^{L})^{2}$$\n",
    "$a$ la funcion de activacion:\n",
    "$$a^{L}(z^{L})=\\frac{1}{1+e^{-z^{L}}}$$\n",
    "y $z$ la suma ponderada:\n",
    "$$z^{L}=\\sum_{i}^{}a_{i}^{L-1}w_{i}^{L}+b^{L}$$\n",
    "\n",
    "#### Como varia el $coste$ ante un cambio del parametro $W$?\n",
    "el parametro w esta conformado por w y el b\n",
    "$$\\frac{\\partial C}{\\partial w^{L}}=\\frac{\\partial C}{\\partial a^{L}}*\\frac{\\partial a^{L}}{\\partial z^{L}}*\\frac{\\partial z^{L}}{\\partial w^{L}}$$\n",
    "$$\\frac{\\partial C}{\\partial b^{L}}=\\frac{\\partial C}{\\partial a^{L}}*\\frac{\\partial a^{L}}{\\partial z^{L}}*\\frac{\\partial z^{L}}{\\partial b^{L}}$$\n",
    "Ahora resolvemos esas derivadas parciales:\n",
    "derivada del coste con respecto al la funcion de activacion:\n",
    "$$\\frac{\\partial C}{\\partial a^{L}}=(a_{j}^{L}-y_{j})$$\n",
    "derivada de la funcion de activacion con respecto a la suma ponderada:\n",
    "$$\\frac{\\partial a^{L}}{\\partial z^{L}}=a^{L}(z^{L})*(1-a^{L}(z^{L}))$$\n",
    "derivada de la suma ponderada con respecto a w:\n",
    "$$\\frac{\\partial z^{L}}{\\partial b^{L}}=a_{i}^{L-1}$$\n",
    "derivada de la suma ponderada con respecto a b:\n",
    "$$\\frac{\\partial z^{L}}{\\partial w^{L}}=1$$\n",
    "\n",
    "### Algoritmo de Backpropagation\n",
    "1. Computo del error de la ultima capa\n",
    "    $$\\delta^{L}=\\frac{\\partial C}{\\partial a^{L}}*\\frac{\\partial a^{L}}{\\partial z^{L}}$$\n",
    "2. Retropropagamos el error a la capa anterior\n",
    "    $$\\delta^{L-1}=W^{L}*\\delta^{L}*\\frac{\\partial a^{L-1}}{\\partial z^{L-1}}$$\n",
    "3. calculamos las derivadas de la capa usando el error\n",
    "    $$\\frac{\\partial C}{\\partial b^{L-1}}=\\delta^{L-1}$$\n",
    "    $$\\frac{\\partial C}{\\partial w^{L-1}}=\\delta^{L-1}*a^{L-2}$$"
   ]
  },
  {
   "cell_type": "code",
   "execution_count": 30,
   "metadata": {},
   "outputs": [],
   "source": [
    "import pandas as pd\n",
    "import numpy as np\n",
    "import matplotlib.pyplot as plt\n",
    "import seaborn as sns\n",
    "from sklearn.utils import shuffle\n",
    "import seaborn as sns\n",
    "from sklearn.datasets import make_circles\n",
    "import time\n",
    "from IPython.display import clear_output\n",
    "%matplotlib inline\n",
    "class NeuralLayer(object):#clase capa neuronal\n",
    "    def __init__(self,numberConections,numberNeurons,activationFunction):\n",
    "        self.numberConections=numberConections\n",
    "        self.numberNeurons=numberNeurons\n",
    "        self.activationFunction=activationFunction\n",
    "        self.bayas=np.random.rand(1,numberNeurons)*2-1#inicializacion con random\n",
    "        self.W=np.random.rand(numberConections,numberNeurons)*2-1#inicializacion con random    \n",
    "class NeuralNetwork:\n",
    "    def __init__(self,learningRatio=0.01,train=True,numIterations=1000,topology=[4,3,1]):\n",
    "        self.learningRatio=learningRatio\n",
    "        self.train=train\n",
    "        self.numIterations=numIterations\n",
    "        self.topology=topology\n",
    "        self.neuralNetwork=self.createNeuralNetwork()\n",
    "    def createNeuralNetwork(self):\n",
    "        nn=[]\n",
    "        for i,layer in enumerate(self.topology[:-1]):#itera hasta len(topology)-1\n",
    "            nn.append(NeuralLayer(self.topology[i],self.topology[i+1],self.sigmoide))#crea un objeto neuralLayer\n",
    "        return nn\n",
    "    sigmoide=(lambda x:1/(1+np.e**(-x)),lambda x:x*(1-x)) #funcion de activacion mas su rerivada\n",
    "    costFunction=(lambda yp,yr:np.mean((yp-yr)**2),\n",
    "                 lambda yp,yr:(yp-yr))#funcion de costo mas su rerivada\n",
    "    def forwardPropagation(self,X,Y):\n",
    "        out=[(None,X)]#tupla None,X \n",
    "        for i,layer in enumerate(self.neuralNetwork):\n",
    "            z=out[-1][1]@self.neuralNetwork[i].W+self.neuralNetwork[i].bayas\n",
    "            a=self.neuralNetwork[i].activationFunction[0](z)\n",
    "            out.append((z,a))#se agrega una nueva tupla confotmado de (z,a) donde z es la suma ponderada\n",
    "                             #y a es resultado de pasar z como parametro por la funcion de activacion   \n",
    "        return out \n",
    "    def backPropagation(self,X,Y):\n",
    "        out=self.forwardPropagation(X,Y)\n",
    "        if self.train:\n",
    "            deltas=[]\n",
    "            for i in reversed(range(0, len(self.neuralNetwork))):\n",
    "                a=out[i+1][1]\n",
    "                z=out[i+1][0]\n",
    "                if i==len(self.neuralNetwork)-1:#para la ultima capa\n",
    "                    deltas.insert(0,self.costFunction[1](a,Y)*self.neuralNetwork[i].activationFunction[1](a))\n",
    "                else:#para las demas capas\n",
    "                    deltas.insert(0, deltas[0] @ _W.T * self.neuralNetwork[i].activationFunction[1](a))\n",
    "                _W=self.neuralNetwork[i].W\n",
    "                ##desenso del gradiente\n",
    "                self.neuralNetwork[i].bayas=self.neuralNetwork[i].bayas-np.mean(deltas[0],axis=0,keepdims=True)*self.learningRatio\n",
    "                self.neuralNetwork[i].W=self.neuralNetwork[i].W-out[i][1].T@deltas[0]*self.learningRatio\n",
    "        return out[-1][1]\n",
    "    def fit(self,X,Y,numIterations):\n",
    "        loss=[]\n",
    "        for i in range(numIterations):\n",
    "            out=self.backwardPropagation(X,Y)\n",
    "            loss.append(self.costFunction[0](out,Y))\n",
    "            clear_output(wait=True)\n",
    "            plt.plot(range(len(loss)), loss)\n",
    "            plt.show()\n",
    "def readData():\n",
    "    df = pd.read_csv('Iris.csv')   \n",
    "    df = df.drop(['Id'],axis=1)\n",
    "    rows = list(range(100,150))\n",
    "    df = df.drop(df.index[rows]) \n",
    "     \n",
    "    Y = []\n",
    "    target = df['Species']\n",
    "    for val in target:\n",
    "        if(val == 'Iris-setosa'):\n",
    "            Y.append(0)\n",
    "        else:\n",
    "            Y.append(1)\n",
    "    df = df.drop(['Species'],axis=1)\n",
    "    X = df.values.tolist()\n",
    "    X, Y = shuffle(X,Y)\n",
    "    X=np.array(X)\n",
    "    Y=np.array(Y)\n",
    "    Y=Y[:,np.newaxis]\n",
    "    return X,Y\n",
    "if __name__=='__main__':\n",
    "    nn=NeuralNetwork()\n",
    "    [X,Y]=readData()\n",
    "    nn.backPropagation(X,Y)"
   ]
  },
  {
   "cell_type": "code",
   "execution_count": null,
   "metadata": {},
   "outputs": [],
   "source": []
  }
 ],
 "metadata": {
  "kernelspec": {
   "display_name": "Python 3",
   "language": "python",
   "name": "python3"
  },
  "language_info": {
   "codemirror_mode": {
    "name": "ipython",
    "version": 3
   },
   "file_extension": ".py",
   "mimetype": "text/x-python",
   "name": "python",
   "nbconvert_exporter": "python",
   "pygments_lexer": "ipython3",
   "version": "3.7.3"
  }
 },
 "nbformat": 4,
 "nbformat_minor": 2
}
