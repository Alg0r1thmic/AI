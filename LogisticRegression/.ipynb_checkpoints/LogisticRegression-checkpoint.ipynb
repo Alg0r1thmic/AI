{
 "cells": [
  {
   "cell_type": "markdown",
   "metadata": {},
   "source": [
    "## Logistic Regression"
   ]
  },
  {
   "cell_type": "markdown",
   "metadata": {},
   "source": [
    "### Despejar para hallar la funcion sigmoidea\n",
    "![title](logist.png)"
   ]
  },
  {
   "cell_type": "markdown",
   "metadata": {},
   "source": [
    "### implementacion de la funcion sigmoide"
   ]
  },
  {
   "cell_type": "code",
   "execution_count": 2,
   "metadata": {},
   "outputs": [
    {
     "data": {
      "image/png": "[encoded data removed]",
      "text/plain": [
       "<Figure size 432x288 with 1 Axes>"
      ]
     },
     "metadata": {
      "needs_background": "light"
     },
     "output_type": "display_data"
    }
   ],
   "source": [
    "import numpy as np\n",
    "import matplotlib.pyplot as plt\n",
    " \n",
    "def sigmoide(x):\n",
    "    res = [1 / (1 + np.exp(-ele)) for ele in x]\n",
    "    return res\n",
    " \n",
    "x = np.arange(-15, 15, 0.5)\n",
    "y = sigmoide(x)\n",
    "y_mid = [0.5 for ele in x]\n",
    " \n",
    "fig = plt.figure()\n",
    "sg = fig.add_subplot(111)\n",
    " \n",
    "sg.set_title('función sigmoide',fontsize=16, fontweight='bold')\n",
    " \n",
    "sg.set_xlabel('x')\n",
    "sg.set_ylabel('y')\n",
    " \n",
    "sg.text(-7, 0.9, r'$y=\\frac{1}{1+e^{-f(x)}}$', style='italic',fontsize=15,\n",
    "        bbox={'facecolor': 'green', 'alpha': 0.3, 'pad': 10})\n",
    " \n",
    "sg.text(-15, 0.53, r'pto inflexión: y=0.5', fontsize=15, color='red')\n",
    " \n",
    "plt.plot(x, y, color='#1F5320', lw = 3.0)\n",
    "plt.plot(x, y_mid, color='red', lw = 2.0, ls = 'dashed')\n",
    " \n",
    "plt.show()"
   ]
  },
  {
   "cell_type": "markdown",
   "metadata": {},
   "source": [
    "## Data set Iris"
   ]
  },
  {
   "cell_type": "code",
   "execution_count": null,
   "metadata": {},
   "outputs": [],
   "source": [
    "import pandas as pd\n",
    "import numpy as np\n",
    "import matplotlib.pyplot as plt\n",
    "import seaborn as sns"
   ]
  },
  {
   "cell_type": "code",
   "execution_count": 89,
   "metadata": {},
   "outputs": [],
   "source": [
    "df = pd.read_csv('Iris.csv') ## Load data\n",
    "df = df.drop(['Id'],axis=1)\n",
    "rows = list(range(100,150))\n",
    "df = df.drop(df.index[rows])  ## Drop the rows with target values Iris-virginica\n",
    "Y = []\n",
    "target = df['Species']\n",
    "for val in target:\n",
    "    if(val == 'Iris-setosa'):\n",
    "        Y.append(0)\n",
    "    else:\n",
    "        Y.append(1)\n",
    "df = df.drop(['Species'],axis=1)\n",
    "X = df.values.tolist()\n",
    "X, Y = shuffle(X,Y)\n",
    "X=np.array(X)\n",
    "X=X[:, :2]\n",
    "Y=np.array(Y)"
   ]
  },
  {
   "cell_type": "code",
   "execution_count": 90,
   "metadata": {},
   "outputs": [
    {
     "data": {
      "image/png": "[encoded data removed]",
      "text/plain": [
       "<Figure size 720x432 with 1 Axes>"
      ]
     },
     "metadata": {
      "needs_background": "light"
     },
     "output_type": "display_data"
    }
   ],
   "source": [
    "\n",
    "plt.figure(figsize=(10, 6))\n",
    "plt.scatter(X[Y == 0][:, 0], X[Y == 0][:, 1], color='b', label='0')\n",
    "plt.scatter(X[Y == 1][:, 0], X[Y == 1][:, 1], color='r', label='1')\n",
    "plt.legend();"
   ]
  },
  {
   "cell_type": "markdown",
   "metadata": {},
   "source": [
    "## Implementacion de la regresion logistica"
   ]
  },
  {
   "cell_type": "code",
   "execution_count": 8,
   "metadata": {},
   "outputs": [
    {
     "name": "stdout",
     "output_type": "stream",
     "text": [
      "logistic regression\n"
     ]
    }
   ],
   "source": [
    "class logisticRegression:\n",
    "    def __init__(self,learningRatio,numIterations,fitIntercept=True,verbose=False):\n",
    "        self.learningRatio=learningRatio\n",
    "        self.numIterations=numIterations\n",
    "        self.fitIntercept=fitIntercept\n",
    "        self.verbose=verbose\n",
    "    def sigmoideFunction(self,x):\n",
    "        return 1/(1+np.exp(-x))\n",
    "    def costFunction(self,h,y):\n",
    "        return (-y * np.log(h)-(1-y)*np.log(1-h)).mean()\n",
    "    \n",
    "    def fit(self, X, y):\n",
    "        if self.fit_intercept:\n",
    "            X = self.__add_intercept(X)\n",
    "        \n",
    "        # weights initialization\n",
    "        self.theta = np.zeros(X.shape[1])\n",
    "        \n",
    "        for i in range(self.num_iter):\n",
    "            z = np.dot(X, self.theta)\n",
    "            h = self.__sigmoid(z)\n",
    "            gradient = np.dot(X.T, (h - y)) / y.size\n",
    "            self.theta -= self.lr * gradient\n",
    "            \n",
    "            z = np.dot(X, self.theta)\n",
    "            h = self.__sigmoid(z)\n",
    "            loss = self.__loss(h, y)\n",
    "                \n",
    "            if(self.verbose ==True and i % 10000 == 0):\n",
    "                print(f'loss: {loss} \\t')\n",
    "    \n",
    "    def predict_prob(self, X):\n",
    "        if self.fit_intercept:\n",
    "            X = self.__add_intercept(X)\n",
    "    \n",
    "        return self.__sigmoid(np.dot(X, self.theta))\n",
    "    \n",
    "    def predict(self, X):\n",
    "        return self.predict_prob(X).round()\n",
    "def main():\n",
    "    print(\"logistic regression\")\n",
    "if __name__ ==\"__main__\":\n",
    "    main()"
   ]
  },
  {
   "cell_type": "code",
   "execution_count": null,
   "metadata": {},
   "outputs": [],
   "source": []
  }
 ],
 "metadata": {
  "kernelspec": {
   "display_name": "Python 3",
   "language": "python",
   "name": "python3"
  },
  "language_info": {
   "codemirror_mode": {
    "name": "ipython",
    "version": 3
   },
   "file_extension": ".py",
   "mimetype": "text/x-python",
   "name": "python",
   "nbconvert_exporter": "python",
   "pygments_lexer": "ipython3",
   "version": "3.7.3"
  }
 },
 "nbformat": 4,
 "nbformat_minor": 2
}
