{
 "cells": [
  {
   "cell_type": "markdown",
   "metadata": {
    "pycharm": {}
   },
   "source": [
    "## Logistic Regression"
   ]
  },
  {
   "cell_type": "markdown",
   "metadata": {
    "pycharm": {}
   },
   "source": [
    "### implementacion de la funcion sigmoide"
   ]
  },
  {
   "cell_type": "code",
   "execution_count": 31,
   "metadata": {
    "pycharm": {
     "is_executing": false
    }
   },
   "outputs": [
    {
     "data": {
      "image/png": "[encoded data removed]",
      "text/plain": [
       "<Figure size 432x288 with 1 Axes>"
      ]
     },
     "metadata": {
      "needs_background": "light"
     },
     "output_type": "display_data"
    }
   ],
   "source": [
    "import numpy as np\n",
    "import matplotlib.pyplot as plt\n",
    "import seaborn as sns\n",
    "\n",
    "def sigmoide(x):\n",
    "    res = [1 / (1 + np.exp(-ele)) for ele in x]\n",
    "    return res\n",
    " \n",
    "x = np.arange(-15, 15, 0.5)\n",
    "y = sigmoide(x)\n",
    "y_mid = [0.5 for ele in x]\n",
    " \n",
    "fig = plt.figure()\n",
    "sg = fig.add_subplot(111)\n",
    " \n",
    "sg.set_title('función sigmoide',fontsize=16, fontweight='bold')\n",
    " \n",
    "sg.set_xlabel('x')\n",
    "sg.set_ylabel('y')\n",
    " \n",
    "sg.text(-7, 0.9, r'$y=\\frac{1}{1+e^{-f(x)}}$', style='italic',fontsize=15,\n",
    "        bbox={'facecolor': 'green', 'alpha': 0.3, 'pad': 10})\n",
    " \n",
    "sg.text(-15, 0.53, r'pto inflexión: y=0.5', fontsize=15, color='red')\n",
    " \n",
    "plt.plot(x, y, color='#1F5320', lw = 3.0)\n",
    "plt.plot(x, y_mid, color='red', lw = 2.0, ls = 'dashed')\n",
    " \n",
    "plt.show()"
   ]
  },
  {
   "cell_type": "markdown",
   "metadata": {
    "pycharm": {}
   },
   "source": [
    "## Data set Iris"
   ]
  },
  {
   "cell_type": "code",
   "execution_count": 1,
   "metadata": {
    "pycharm": {
     "is_executing": false
    }
   },
   "outputs": [],
   "source": [
    "import pandas as pd\n",
    "import numpy as np\n",
    "import matplotlib.pyplot as plt\n",
    "import seaborn as sns\n",
    "from sklearn.utils import shuffle\n",
    "import seaborn as sns\n"
   ]
  },
  {
   "cell_type": "code",
   "execution_count": 12,
   "metadata": {
    "pycharm": {
     "is_executing": false
    }
   },
   "outputs": [
    {
     "name": "stdout",
     "output_type": "stream",
     "text": [
      "[[5.5 2.6]\n",
      " [5.7 2.8]\n",
      " [4.4 3. ]\n",
      " [4.8 3.4]\n",
      " [5.  2. ]\n",
      " [4.8 3. ]\n",
      " [5.  3.5]\n",
      " [6.7 3. ]\n",
      " [4.6 3.4]\n",
      " [5.  3.2]\n",
      " [6.  3.4]\n",
      " [6.  2.9]\n",
      " [5.2 4.1]\n",
      " [5.9 3. ]\n",
      " [4.6 3.6]\n",
      " [6.1 2.9]\n",
      " [4.8 3. ]\n",
      " [4.9 2.4]\n",
      " [5.4 3.9]\n",
      " [6.4 2.9]\n",
      " [5.9 3.2]\n",
      " [5.5 2.5]\n",
      " [5.2 3.5]\n",
      " [6.  2.2]\n",
      " [6.2 2.2]\n",
      " [4.5 2.3]\n",
      " [5.8 2.6]\n",
      " [4.6 3.1]\n",
      " [6.6 2.9]\n",
      " [4.3 3. ]\n",
      " [4.7 3.2]\n",
      " [6.2 2.9]\n",
      " [5.7 2.6]\n",
      " [5.1 3.3]\n",
      " [5.8 4. ]\n",
      " [6.5 2.8]\n",
      " [4.8 3.1]\n",
      " [5.4 3.7]\n",
      " [5.6 2.5]\n",
      " [5.1 2.5]\n",
      " [6.3 2.5]\n",
      " [4.7 3.2]\n",
      " [5.  3.4]\n",
      " [5.6 2.9]\n",
      " [5.5 2.3]\n",
      " [4.4 3.2]\n",
      " [6.1 2.8]\n",
      " [5.7 2.9]\n",
      " [5.  3.3]\n",
      " [5.2 2.7]\n",
      " [5.  3.6]\n",
      " [6.6 3. ]\n",
      " [5.  3.5]\n",
      " [5.1 3.8]\n",
      " [4.9 3.1]\n",
      " [5.4 3.4]\n",
      " [5.  2.3]\n",
      " [5.5 2.4]\n",
      " [5.4 3.9]\n",
      " [4.8 3.4]\n",
      " [6.4 3.2]\n",
      " [5.8 2.7]\n",
      " [5.1 3.7]\n",
      " [4.9 3. ]\n",
      " [5.1 3.5]\n",
      " [5.  3. ]\n",
      " [5.1 3.8]\n",
      " [5.6 3. ]\n",
      " [5.5 4.2]\n",
      " [5.7 4.4]\n",
      " [6.9 3.1]\n",
      " [6.3 3.3]\n",
      " [5.1 3.8]\n",
      " [6.8 2.8]\n",
      " [5.1 3.4]\n",
      " [5.1 3.5]\n",
      " [6.1 2.8]\n",
      " [5.7 3. ]\n",
      " [5.5 3.5]\n",
      " [6.3 2.3]\n",
      " [7.  3.2]\n",
      " [5.  3.4]\n",
      " [5.7 2.8]\n",
      " [5.4 3. ]\n",
      " [4.9 3.1]\n",
      " [5.7 3.8]\n",
      " [5.3 3.7]\n",
      " [5.8 2.7]\n",
      " [4.6 3.2]\n",
      " [6.7 3.1]\n",
      " [5.2 3.4]\n",
      " [5.4 3.4]\n",
      " [5.6 2.7]\n",
      " [5.6 3. ]\n",
      " [6.7 3.1]\n",
      " [5.5 2.4]\n",
      " [4.4 2.9]\n",
      " [6.  2.7]\n",
      " [6.1 3. ]\n",
      " [4.9 3.1]]\n"
     ]
    }
   ],
   "source": [
    "df = pd.read_csv('Iris.csv')\n",
    "df = df.drop(['Id'],axis=1)\n",
    "rows = list(range(100,150))\n",
    "df = df.drop(df.index[rows])  \n",
    "Y = []\n",
    "target = df['Species']\n",
    "for val in target:\n",
    "    if(val == 'Iris-setosa'):\n",
    "        Y.append(0)\n",
    "    else:\n",
    "        Y.append(1)\n",
    "df = df.drop(['Species'],axis=1)\n",
    "X = df.values.tolist()\n",
    "X, Y = shuffle(X,Y)\n",
    "X=np.array(X)\n",
    "X=X[:, :2]\n",
    "Y=np.array(Y)\n"
   ]
  },
  {
   "cell_type": "code",
   "execution_count": 5,
   "metadata": {
    "pycharm": {
     "is_executing": false
    }
   },
   "outputs": [
    {
     "data": {
      "image/png": "[encoded data removed]",
      "text/plain": [
       "<Figure size 720x432 with 1 Axes>"
      ]
     },
     "metadata": {
      "needs_background": "light"
     },
     "output_type": "display_data"
    }
   ],
   "source": [
    "\n",
    "plt.figure(figsize=(10, 6))\n",
    "plt.scatter(X[Y == 0][:, 0], X[Y == 0][:, 1], color='b', label='0')\n",
    "plt.scatter(X[Y == 1][:, 0], X[Y == 1][:, 1], color='r', label='1')\n",
    "plt.legend();"
   ]
  },
  {
   "cell_type": "markdown",
   "metadata": {
    "pycharm": {}
   },
   "source": [
    "## Implementacion de la regresion logistica"
   ]
  },
  {
   "cell_type": "code",
   "execution_count": 2,
   "metadata": {
    "pycharm": {
     "is_executing": false
    }
   },
   "outputs": [],
   "source": [
    "class logisticRegression:\n",
    "    def __init__(self,learningRatio=0.1,numIterations=100000,fitIntercept=True,verbose=False):\n",
    "        self.learningRatio=learningRatio\n",
    "        self.numIterations=numIterations\n",
    "        self.fitIntercept=fitIntercept\n",
    "        self.verbose=verbose\n",
    "    def addIntercept(self, X):\n",
    "        intercept = np.ones((X.shape[0], 1))\n",
    "        return np.concatenate((intercept, X), axis=1)\n",
    "    def sigmoideFunction(self,x):\n",
    "        return 1/(1+np.exp(-x))\n",
    "    def costFunction(self,h,y):\n",
    "        return (-y * np.log(h)-(1-y)*np.log(1-h)).mean()\n",
    "    \n",
    "    def fit(self, X, y):\n",
    "        if self.fitIntercept:\n",
    "            X = self.addIntercept(X)\n",
    "        # weights initialization\n",
    "        self.theta = np.zeros(X.shape[1])\n",
    "        \n",
    "        for i in range(self.numIterations):\n",
    "            z = np.dot(X, self.theta)\n",
    "            h = self.sigmoideFunction(z)\n",
    "            gradient = np.dot(X.T, (h - y)) / y.size\n",
    "            self.theta -= self.learningRatio * gradient\n",
    "            \n",
    "            z = np.dot(X, self.theta)\n",
    "            h = self.sigmoideFunction(z)\n",
    "            loss = self.costFunction(h, y)\n",
    "                \n",
    "            if(self.verbose ==True and i % 10000 == 0):\n",
    "                print(f'loss: {loss} \\t')\n",
    "    \n",
    "    def predict_prob(self, X):\n",
    "        if self.fitIntercept:\n",
    "            X = self.addIntercept(X)\n",
    "    \n",
    "        return self.sigmoideFunction(np.dot(X, self.theta))\n",
    "    \n",
    "    def predict(self, X):\n",
    "        return self.predict_prob(X).round()\n",
    "    \n",
    "    "
   ]
  },
  {
   "cell_type": "code",
   "execution_count": 7,
   "metadata": {
    "pycharm": {
     "name": "#%% md\n"
    }
   },
   "outputs": [],
   "source": [
    "model = logisticRegression(learningRatio=0.1, numIterations=300000)"
   ]
  },
  {
   "cell_type": "code",
   "execution_count": 8,
   "metadata": {},
   "outputs": [
    {
     "name": "stdout",
     "output_type": "stream",
     "text": [
      "CPU times: user 16.6 s, sys: 37.3 ms, total: 16.7 s\n",
      "Wall time: 16.7 s\n"
     ]
    }
   ],
   "source": [
    "%time model.fit(X, Y)"
   ]
  },
  {
   "cell_type": "code",
   "execution_count": 9,
   "metadata": {},
   "outputs": [
    {
     "data": {
      "image/png": "[encoded data removed]",
      "text/plain": [
       "<Figure size 720x432 with 1 Axes>"
      ]
     },
     "metadata": {
      "needs_background": "light"
     },
     "output_type": "display_data"
    }
   ],
   "source": [
    "\n",
    "plt.figure(figsize=(10, 6))\n",
    "plt.scatter(X[Y == 0][:, 0], X[Y == 0][:, 1], color='b', label='0')\n",
    "plt.scatter(X[Y == 1][:, 0], X[Y == 1][:, 1], color='r', label='1')\n",
    "plt.legend();\n",
    "x1_min, x1_max = X[:,0].min(), X[:,0].max(),\n",
    "x2_min, x2_max = X[:,1].min(), X[:,1].max(),\n",
    "xx1, xx2 = np.meshgrid(np.linspace(x1_min, x1_max), np.linspace(x2_min, x2_max))\n",
    "grid = np.c_[xx1.ravel(), xx2.ravel()]\n",
    "probs = model.predict_prob(grid).reshape(xx1.shape)\n",
    "plt.contour(xx1, xx2, probs, [0.5], linewidths=1, colors='black');"
   ]
  },
  {
   "cell_type": "code",
   "execution_count": null,
   "metadata": {},
   "outputs": [],
   "source": []
  }
 ],
 "metadata": {
  "kernelspec": {
   "display_name": "Python 3",
   "language": "python",
   "name": "python3"
  },
  "language_info": {
   "codemirror_mode": {
    "name": "ipython",
    "version": 3
   },
   "file_extension": ".py",
   "mimetype": "text/x-python",
   "name": "python",
   "nbconvert_exporter": "python",
   "pygments_lexer": "ipython3",
   "version": "3.7.3"
  }
 },
 "nbformat": 4,
 "nbformat_minor": 2
}
