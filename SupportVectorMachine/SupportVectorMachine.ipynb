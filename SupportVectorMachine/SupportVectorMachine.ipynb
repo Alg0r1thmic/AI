{
 "cells": [
  {
   "cell_type": "markdown",
   "metadata": {},
   "source": [
    "# Support Vector machine \n"
   ]
  },
  {
   "cell_type": "markdown",
   "metadata": {},
   "source": [
    "El objetivo del algoritmo de support vector machin es encontrar un hiperplano en un espacio N-dimensional (N, el número de entidades) que clasifique claramente los puntos de datos.\n",
    "![title](svm1.png)\n",
    "encontrar el hiperplano optimo en la que la distancia sea maxima \n",
    "![title](svm2.png)\n",
    "\n",
    "### funcion costo\n",
    "![title](svm3.png)\n",
    "![title](svm4.png)\n",
    "![title](svm5.png)\n",
    "\n",
    "### derivadas parciales con respecto a los pesos\n",
    "![title](svm6.png)\n",
    "\n",
    "### para actualizar la gradiente sin errores de clasificacion\n",
    "$w=w-\\alpha*(2\\lambda w)$\n",
    "### actualizar la gradiente con errores de clasificacion\n",
    "$w=w+\\alpha*(y_{i}*x_{i}-2\\lambda w)$\n"
   ]
  },
  {
   "cell_type": "code",
   "execution_count": 3,
   "metadata": {},
   "outputs": [],
   "source": [
    "import pandas as pd\n",
    "import numpy as np\n",
    "import matplotlib.pyplot as plt\n",
    "import seaborn as sns\n",
    "from sklearn.utils import shuffle\n",
    "import seaborn as sns"
   ]
  },
  {
   "cell_type": "code",
   "execution_count": 14,
   "metadata": {},
   "outputs": [],
   "source": [
    "df = pd.read_csv('Iris.csv')\n",
    "df = df.drop(['Id'],axis=1)\n",
    "target = df['Species']\n",
    "s = set()\n",
    "for val in target:\n",
    "    s.add(val)\n",
    "s = list(s)\n",
    "rows = list(range(100,150))\n",
    "df = df.drop(df.index[rows])"
   ]
  },
  {
   "cell_type": "code",
   "execution_count": 15,
   "metadata": {},
   "outputs": [
    {
     "data": {
      "image/png": "[encoded data removed]",
      "text/plain": [
       "<Figure size 576x432 with 1 Axes>"
      ]
     },
     "metadata": {
      "needs_background": "light"
     },
     "output_type": "display_data"
    }
   ],
   "source": [
    "import matplotlib.pyplot as plt\n",
    "x = df['SepalLengthCm']\n",
    "y = df['PetalLengthCm']\n",
    "\n",
    "setosa_x = x[:50]\n",
    "setosa_y = y[:50]\n",
    "\n",
    "versicolor_x = x[50:]\n",
    "versicolor_y = y[50:]\n",
    "\n",
    "plt.figure(figsize=(8,6))\n",
    "plt.scatter(setosa_x,setosa_y,marker='+',color='green')\n",
    "plt.scatter(versicolor_x,versicolor_y,marker='_',color='red')\n",
    "plt.show()"
   ]
  },
  {
   "cell_type": "code",
   "execution_count": 2,
   "metadata": {},
   "outputs": [
    {
     "data": {
      "image/png": "[encoded data removed]",
      "text/plain": [
       "<Figure size 432x288 with 1 Axes>"
      ]
     },
     "metadata": {
      "needs_background": "light"
     },
     "output_type": "display_data"
    }
   ],
   "source": [
    "import numpy as np\n",
    "import matplotlib.pyplot as plt\n",
    "from cvxopt import matrix, solvers\n",
    "from io import StringIO\n",
    "\n",
    "def plot_data(x, y, ax):\n",
    "    tmp = x[y == 1]\n",
    "    ax.scatter(tmp[:, 0], tmp[:, 1], c = 'blue')\n",
    "\n",
    "    tmp = x[y == -1]\n",
    "    ax.scatter(tmp[:, 0], tmp[:, 1], c = 'red')\n",
    "\n",
    "# ax + by + c = 0 \n",
    "# dividiendo la ecuacion entre \"b\" \n",
    "# (a/b)x + y + (c/b) = 0 \n",
    "# y = (-a/b)x + (-c/b) \n",
    "def plot_line(w,x, c, ax):          \n",
    "    c = c[0]\n",
    "    pendiente = -w[0]/w[1]          #W[0] = a , W[1] b , b = c\n",
    "    interseccion = -c/w[1]\n",
    "    ax.plot(x, x*pendiente + interseccion)\n",
    "    ax.plot(x, x*pendiente + interseccion+(1/w[1]),'r-')\n",
    "    ax.plot(x, x*pendiente + interseccion-(1/w[1]),'r-')\n",
    "\n",
    "def lagrange(x, y): \n",
    "    NUM = x.shape[0]\n",
    "    COL = x.shape[1]\n",
    "    K = y[:,None] * x\n",
    "    # print \"K \",K\n",
    "    K = np.dot(K, K.T)\n",
    "    P = matrix(K)\n",
    "    q = matrix(-np.ones((NUM, 1)))\n",
    "    G = matrix(-np.eye(NUM))\n",
    "    h = matrix(np.zeros(NUM))\n",
    "    A = matrix(y.reshape(1, -1))\n",
    "    b = matrix(np.zeros(1))\n",
    "    solvers.options['show_progress'] = False\n",
    "    sol = solvers.qp(P, q, G, h, A, b)\n",
    "    alphas = np.array(sol['x'])\n",
    "    return alphas\n",
    "\n",
    "pfile=open('data2.csv','r')\n",
    "data=pfile.read()\n",
    "pfile.close()\n",
    "data=np.genfromtxt(StringIO(data)) \n",
    "data=np.matrix(data)\n",
    "xx = data[:,0:data.shape[1]-1]\n",
    "tam = xx.shape[0]\n",
    "var_x = np.array(xx)\n",
    "Y = data[:,data.shape[1]-1]\n",
    "yy = np.squeeze(np.asarray(Y))\n",
    "var_y = np.array(yy)\n",
    "\n",
    "alphas = lagrange(var_x,var_y)\n",
    "var_yy = np.reshape(var_y,(tam,1))\n",
    "w = np.sum(alphas * var_yy * var_x, axis = 0)\n",
    "condicion = np.squeeze(alphas>0.0001)\n",
    "\n",
    "c = var_y[condicion] - np.dot(var_x[condicion], w)\n",
    "\n",
    "fig, ax = plt.subplots()\n",
    "plot_data(var_x, var_y, ax)\n",
    "plot_line(w ,var_x[:,:1], c ,ax )\n",
    "plt.show()"
   ]
  },
  {
   "cell_type": "code",
   "execution_count": null,
   "metadata": {},
   "outputs": [],
   "source": []
  }
 ],
 "metadata": {
  "kernelspec": {
   "display_name": "Python 3",
   "language": "python",
   "name": "python3"
  },
  "language_info": {
   "codemirror_mode": {
    "name": "ipython",
    "version": 3
   },
   "file_extension": ".py",
   "mimetype": "text/x-python",
   "name": "python",
   "nbconvert_exporter": "python",
   "pygments_lexer": "ipython3",
   "version": "3.7.3"
  }
 },
 "nbformat": 4,
 "nbformat_minor": 2
}
