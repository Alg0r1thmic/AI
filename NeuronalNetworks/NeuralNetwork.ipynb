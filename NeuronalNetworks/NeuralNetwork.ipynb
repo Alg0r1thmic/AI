{
 "cells": [
  {
   "cell_type": "markdown",
   "metadata": {},
   "source": [
    "# Neural Network\n",
    "###  forwardPropagation\n",
    "solo debemos multiplicar los pesos $W$ por el input sumar b ,pasar esta suma ponderada por la funcion de activacion e ir avanzando capa por capa\n",
    "### backward Propagation\n",
    "sea la siguiente composicion de funciones:\n",
    "$$C(a(z^{L}))$$\n",
    "donde $C$ es la funcion conste definida como:\n",
    "$$C(a_{j}^{L})=\\frac{1}{2}\\sum_{j}^{}(y_{i}-a_{j}^{L})^{2}$$\n",
    "$a$ la funcion de activacion:\n",
    "$$a^{L}(z^{L})=\\frac{1}{1+e^{-z^{L}}}$$\n",
    "y $z$ la suma ponderada:\n",
    "$$z^{L}=\\sum_{i}^{}a_{i}^{L-1}w_{i}^{L}+b^{L}$$\n",
    "\n",
    "#### Como varia el $coste$ ante un cambio del parametro $W$?\n",
    "el parametro w esta conformado por w y el b\n",
    "$$\\frac{\\partial C}{\\partial w^{L}}=\\frac{\\partial C}{\\partial a^{L}}*\\frac{\\partial a^{L}}{\\partial z^{L}}*\\frac{\\partial z^{L}}{\\partial w^{L}}$$\n",
    "$$\\frac{\\partial C}{\\partial b^{L}}=\\frac{\\partial C}{\\partial a^{L}}*\\frac{\\partial a^{L}}{\\partial z^{L}}*\\frac{\\partial z^{L}}{\\partial b^{L}}$$\n",
    "Ahora resolvemos esas derivadas parciales:\n",
    "derivada del coste con respecto al la funcion de activacion:\n",
    "$$\\frac{\\partial C}{\\partial a^{L}}=(a_{j}^{L}-y_{j})$$\n",
    "derivada de la funcion de activacion con respecto a la suma ponderada:\n",
    "$$\\frac{\\partial a^{L}}{\\partial z^{L}}=a^{L}(z^{L})*(1-a^{L}(z^{L}))$$\n",
    "derivada de la suma ponderada con respecto a w:\n",
    "$$\\frac{\\partial z^{L}}{\\partial b^{L}}=a_{i}^{L-1}$$\n",
    "derivada de la suma ponderada con respecto a b:\n",
    "$$\\frac{\\partial z^{L}}{\\partial w^{L}}=1$$\n",
    "\n",
    "### Algoritmo de Backpropagation\n",
    "1. Computo del error de la ultima capa\n",
    "    $$\\delta^{L}=\\frac{\\partial C}{\\partial a^{L}}*\\frac{\\partial a^{L}}{\\partial z^{L}}$$\n",
    "2. Retropropagamos el error a la capa anterior\n",
    "    $$\\delta^{L-1}=W^{L}*\\delta^{L}*\\frac{\\partial a^{L-1}}{\\partial z^{L-1}}$$\n",
    "3. calculamos las derivadas de la capa usando el error\n",
    "    $$\\frac{\\partial C}{\\partial b^{L-1}}=\\delta^{L-1}$$\n",
    "    $$\\frac{\\partial C}{\\partial w^{L-1}}=\\delta^{L-1}*a^{L-2}$$"
   ]
  },
  {
   "cell_type": "code",
   "execution_count": 83,
   "metadata": {},
   "outputs": [],
   "source": [
    "import pandas as pd\n",
    "import numpy as np\n",
    "import plotly.plotly as py\n",
    "import plotly.tools as tls\n",
    "import matplotlib.pyplot as plt\n",
    "import seaborn as sns\n",
    "from sklearn.utils import shuffle\n",
    "import seaborn as sns\n",
    "import time\n",
    "from IPython.display import clear_output\n",
    "%matplotlib inline\n",
    "class ReadData(object):\n",
    "    def __init__(self,datasetName='Iris.csv'):\n",
    "        self.datasetName=datasetName\n",
    "    def readData(self):\n",
    "        df = pd.read_csv('Iris.csv')   \n",
    "        df = df.drop(['Id'],axis=1)\n",
    "        rows = list(range(100,150))\n",
    "        df = df.drop(df.index[rows]) \n",
    "\n",
    "        Y = []\n",
    "        target = df['Species']\n",
    "        for val in target:\n",
    "            if(val == 'Iris-setosa'):\n",
    "                Y.append(0)\n",
    "            else:\n",
    "                Y.append(1)\n",
    "        df = df.drop(['Species'],axis=1)\n",
    "        X = df.values.tolist()\n",
    "        X, Y = shuffle(X,Y)\n",
    "        X=np.array(X)\n",
    "        Y=np.array(Y)\n",
    "        forTestY=Y[70:]\n",
    "        Y=Y[:,np.newaxis]\n",
    "        forTestX=X[70:,:]\n",
    "        X=X[0:70,:]\n",
    "        Y=Y[0:70,:]\n",
    "        return X,Y,forTestX,forTestY\n",
    "r=ReadData()\n",
    "[X,Y,forTestX,forTestY]=r.readData()\n"
   ]
  },
  {
   "cell_type": "code",
   "execution_count": 108,
   "metadata": {},
   "outputs": [
    {
     "data": {
      "image/png": "[encoded data removed]",
      "text/plain": [
       "<Figure size 432x288 with 1 Axes>"
      ]
     },
     "metadata": {
      "needs_background": "light"
     },
     "output_type": "display_data"
    },
    {
     "name": "stdout",
     "output_type": "stream",
     "text": [
      "[[13, 0], [0, 17]]\n"
     ]
    },
    {
     "data": {
      "image/png": "[encoded data removed]",
      "text/plain": [
       "<Figure size 432x288 with 2 Axes>"
      ]
     },
     "metadata": {
      "needs_background": "light"
     },
     "output_type": "display_data"
    },
    {
     "data": {
      "image/png": "[encoded data removed]",
      "text/plain": [
       "<Figure size 432x288 with 1 Axes>"
      ]
     },
     "metadata": {
      "needs_background": "light"
     },
     "output_type": "display_data"
    }
   ],
   "source": [
    "\n",
    "class NeuralLayer(object):#clase capa neuronal\n",
    "    def __init__(self,numberConections,numberNeurons,activationFunction):\n",
    "        self.numberConections=numberConections\n",
    "        self.numberNeurons=numberNeurons\n",
    "        self.activationFunction=activationFunction\n",
    "        self.bayas=np.random.rand(1,numberNeurons)*2-1#inicializacion con random\n",
    "        self.W=np.random.rand(numberConections,numberNeurons)*2-1#inicializacion con random    \n",
    "class NeuralNetwork:\n",
    "    def __init__(self,learningRatio=0.01,train=True,numIterations=1000,topology=[4,3,1]):\n",
    "        self.learningRatio=learningRatio\n",
    "        self.train=train\n",
    "        self.numIterations=numIterations\n",
    "        self.topology=topology\n",
    "        self.neuralNetwork=self.createNeuralNetwork()\n",
    "    def createNeuralNetwork(self):\n",
    "        nn=[]\n",
    "        for i,layer in enumerate(self.topology[:-1]):#itera hasta len(topology)-1\n",
    "            nn.append(NeuralLayer(self.topology[i],self.topology[i+1],self.sigmoide))#crea un objeto neuralLayer\n",
    "        return nn\n",
    "    sigmoide=(lambda x:1/(1+np.e**(-x)),lambda x:x*(1-x)) #funcion de activacion mas su rerivada\n",
    "    costFunction=(lambda yp,yr:np.mean((yp-yr)**2),\n",
    "                 lambda yp,yr:(yp-yr))#funcion de costo mas su rerivada\n",
    "    def forwardPropagation(self,X,Y):\n",
    "        out=[(None,X)]#tupla None,X \n",
    "        for i,layer in enumerate(self.neuralNetwork):\n",
    "            z=out[-1][1]@self.neuralNetwork[i].W+self.neuralNetwork[i].bayas\n",
    "            a=self.neuralNetwork[i].activationFunction[0](z)\n",
    "            out.append((z,a))#se agrega una nueva tupla confotmado de (z,a) donde z es la suma ponderada\n",
    "                             #y a es resultado de pasar z como parametro por la funcion de activacion   \n",
    "        return out \n",
    "    def backPropagation(self,X,Y):\n",
    "        out=self.forwardPropagation(X,Y)\n",
    "        if self.train:\n",
    "            deltas=[]\n",
    "            for i in reversed(range(0, len(self.neuralNetwork))):\n",
    "                a=out[i+1][1]\n",
    "                z=out[i+1][0]\n",
    "                if i==len(self.neuralNetwork)-1:#para la ultima capa\n",
    "                    deltas.insert(0,self.costFunction[1](a,Y)*self.neuralNetwork[i].activationFunction[1](a))\n",
    "                else:#para las demas capas\n",
    "                    deltas.insert(0, deltas[0] @ _W.T * self.neuralNetwork[i].activationFunction[1](a))\n",
    "                _W=self.neuralNetwork[i].W\n",
    "                ##desenso del gradiente\n",
    "                self.neuralNetwork[i].bayas=self.neuralNetwork[i].bayas-np.mean(deltas[0],axis=0,keepdims=True)*self.learningRatio\n",
    "                self.neuralNetwork[i].W=self.neuralNetwork[i].W-out[i][1].T@deltas[0]*self.learningRatio\n",
    "        return out[-1][1]\n",
    "    def fit(self,X,Y):\n",
    "        loss=[]\n",
    "        for i in range(self.numIterations):\n",
    "            out=self.backPropagation(X,Y)\n",
    "            loss.append(self.costFunction[0](out,Y))\n",
    "            clear_output(wait=True)\n",
    "            plt.plot(range(len(loss)), loss)\n",
    "            plt.show()\n",
    "\n",
    "    def predict(self,X,Y):\n",
    "        confusionMatrix=[[0,0],[0,0]]\n",
    "        outPut=[]\n",
    "        for i in range(X.shape[0]):\n",
    "            out=self.forwardPropagation(X[i:i+1,:],Y[i])\n",
    "            outPut.append(out[-1][1])\n",
    "            outPut[i]=outPut[i].flatten()\n",
    "            outPut[i]=np.asscalar(outPut[i])\n",
    "            if outPut[i]>0.5 and Y[i]==1:\n",
    "                confusionMatrix[0][0]=confusionMatrix[0][0]+1\n",
    "            elif outPut[i]<=0.5 and Y[i]==1:\n",
    "                confusionMatrix[0][1]=confusionMatrix[0][1]+1\n",
    "            elif outPut[i]<=0.5 and Y[i]==0:\n",
    "                confusionMatrix[1][1]=confusionMatrix[1][1]+1\n",
    "            elif outPut[i]>0.5 and Y[i]==0:\n",
    "                confusionMatrix[1][0]=confusionMatrix[1][0]+1\n",
    "            #print(\"salida \",outPut[i],\"salida deseada\",Y[i])\n",
    "        print(confusionMatrix)\n",
    "        cm_df = pd.DataFrame(confusionMatrix,\n",
    "                     index = ['setosa','versicolor'], \n",
    "                     columns = ['setosa','versicolor'])\n",
    "        sns.heatmap(cm_df, annot=True)\n",
    "        plt.show()\n",
    "        N = len(Y)\n",
    "        x = range(N)\n",
    "        xx=np.array(x)\n",
    "        xx=xx+0.35\n",
    "        width = 1/1.5\n",
    "        plt.bar(x,Y,width=0.35, color=\"blue\")\n",
    "        plt.bar(xx,outPut,width=0.35, color=\"red\")     \n",
    "        plt.legend([\"Y\",\"Y predicho\"])\n",
    "if __name__=='__main__':\n",
    "    nn1=NeuralNetwork(learningRatio=0.105,topology=[4,12,1],numIterations=300)\n",
    "    nn1.fit(X,Y)\n",
    "    nn1.predict(forTestX,forTestY)"
   ]
  },
  {
   "cell_type": "code",
   "execution_count": null,
   "metadata": {},
   "outputs": [],
   "source": []
  }
 ],
 "metadata": {
  "kernelspec": {
   "display_name": "Python 3",
   "language": "python",
   "name": "python3"
  },
  "language_info": {
   "codemirror_mode": {
    "name": "ipython",
    "version": 3
   },
   "file_extension": ".py",
   "mimetype": "text/x-python",
   "name": "python",
   "nbconvert_exporter": "python",
   "pygments_lexer": "ipython3",
   "version": "3.7.3"
  }
 },
 "nbformat": 4,
 "nbformat_minor": 2
}
